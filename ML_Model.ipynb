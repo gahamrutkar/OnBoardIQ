{
  "nbformat": 4,
  "nbformat_minor": 0,
  "metadata": {
    "colab": {
      "provenance": []
    },
    "kernelspec": {
      "name": "python3",
      "display_name": "Python 3"
    },
    "language_info": {
      "name": "python"
    }
  },
  "cells": [
    {
      "cell_type": "markdown",
      "source": [
        "## **Installing the REquired Libraries`**"
      ],
      "metadata": {
        "id": "DIDjOGIzR1rz"
      }
    },
    {
      "cell_type": "code",
      "source": [
        "!pip install opencv-python-headless pytesseract pdf2image pillow\n",
        "\n",
        "# Install necessary libraries\n",
        "!pip install opencv-python-headless pytesseract pdf2image pillow\n",
        "# Install poppler-utils\n",
        "!apt-get install poppler-utils\n",
        "\n",
        "# Import necessary modules\n",
        "from pdf2image import convert_from_path\n",
        "from google.colab import files\n",
        "\n",
        "!apt-get install tesseract-ocr\n",
        "!apt-get install libtesseract-dev\n",
        "\n",
        "import pytesseract\n",
        "from PIL import Image\n",
        "\n",
        "# Use the which command to find the actual path to tesseract\n",
        "# If you get an empty output, it means tesseract is not in your PATH\n",
        "!which tesseract\n"
      ],
      "metadata": {
        "colab": {
          "base_uri": "https://localhost:8080/"
        },
        "id": "gLunWrtwR3Mp",
        "outputId": "ee226dd7-ab67-41d6-be05-00919becaa5c"
      },
      "execution_count": 30,
      "outputs": [
        {
          "output_type": "stream",
          "name": "stdout",
          "text": [
            "Requirement already satisfied: opencv-python-headless in /usr/local/lib/python3.10/dist-packages (4.10.0.84)\n",
            "Requirement already satisfied: pytesseract in /usr/local/lib/python3.10/dist-packages (0.3.13)\n",
            "Requirement already satisfied: pdf2image in /usr/local/lib/python3.10/dist-packages (1.17.0)\n",
            "Requirement already satisfied: pillow in /usr/local/lib/python3.10/dist-packages (11.0.0)\n",
            "Requirement already satisfied: numpy>=1.21.2 in /usr/local/lib/python3.10/dist-packages (from opencv-python-headless) (1.26.4)\n",
            "Requirement already satisfied: packaging>=21.3 in /usr/local/lib/python3.10/dist-packages (from pytesseract) (24.2)\n",
            "Requirement already satisfied: opencv-python-headless in /usr/local/lib/python3.10/dist-packages (4.10.0.84)\n",
            "Requirement already satisfied: pytesseract in /usr/local/lib/python3.10/dist-packages (0.3.13)\n",
            "Requirement already satisfied: pdf2image in /usr/local/lib/python3.10/dist-packages (1.17.0)\n",
            "Requirement already satisfied: pillow in /usr/local/lib/python3.10/dist-packages (11.0.0)\n",
            "Requirement already satisfied: numpy>=1.21.2 in /usr/local/lib/python3.10/dist-packages (from opencv-python-headless) (1.26.4)\n",
            "Requirement already satisfied: packaging>=21.3 in /usr/local/lib/python3.10/dist-packages (from pytesseract) (24.2)\n",
            "Reading package lists... Done\n",
            "Building dependency tree... Done\n",
            "Reading state information... Done\n",
            "poppler-utils is already the newest version (22.02.0-2ubuntu0.5).\n",
            "0 upgraded, 0 newly installed, 0 to remove and 49 not upgraded.\n",
            "Reading package lists... Done\n",
            "Building dependency tree... Done\n",
            "Reading state information... Done\n",
            "tesseract-ocr is already the newest version (4.1.1-2.1build1).\n",
            "0 upgraded, 0 newly installed, 0 to remove and 49 not upgraded.\n",
            "Reading package lists... Done\n",
            "Building dependency tree... Done\n",
            "Reading state information... Done\n",
            "libtesseract-dev is already the newest version (4.1.1-2.1build1).\n",
            "0 upgraded, 0 newly installed, 0 to remove and 49 not upgraded.\n",
            "/usr/bin/tesseract\n"
          ]
        }
      ]
    },
    {
      "cell_type": "markdown",
      "source": [
        "## **Load And Prepare the Form**"
      ],
      "metadata": {
        "id": "bJ5V0kViSka5"
      }
    },
    {
      "cell_type": "code",
      "source": [
        "# Upload the PDF file\n",
        "uploaded = files.upload()\n",
        "\n",
        "# Get the filename of the uploaded PDF\n",
        "pdf_filename = list(uploaded.keys())[0]\n",
        "\n",
        "# Convert uploaded PDF to images\n",
        "# The poppler_path argument is added to point to the location of poppler utilities.\n",
        "# This is usually not needed if poppler is installed and in the system's PATH.\n",
        "pages = convert_from_path(pdf_filename, dpi=300, poppler_path='/usr/bin') # Pass the filename from uploaded\n",
        "for i, page in enumerate(pages):\n",
        "    image_path = f'page_{i + 1}.jpg'\n",
        "    page.save(image_path, 'JPEG')\n",
        "    print(f\"Saved: {image_path}\")"
      ],
      "metadata": {
        "id": "GuxcqXaqTL3Z",
        "colab": {
          "base_uri": "https://localhost:8080/",
          "height": 125
        },
        "outputId": "158a6ef5-48b5-448c-fcef-15f7c9336570"
      },
      "execution_count": 31,
      "outputs": [
        {
          "output_type": "display_data",
          "data": {
            "text/plain": [
              "<IPython.core.display.HTML object>"
            ],
            "text/html": [
              "\n",
              "     <input type=\"file\" id=\"files-beea4752-c876-44d8-8eaf-13b1bd3c30c2\" name=\"files[]\" multiple disabled\n",
              "        style=\"border:none\" />\n",
              "     <output id=\"result-beea4752-c876-44d8-8eaf-13b1bd3c30c2\">\n",
              "      Upload widget is only available when the cell has been executed in the\n",
              "      current browser session. Please rerun this cell to enable.\n",
              "      </output>\n",
              "      <script>// Copyright 2017 Google LLC\n",
              "//\n",
              "// Licensed under the Apache License, Version 2.0 (the \"License\");\n",
              "// you may not use this file except in compliance with the License.\n",
              "// You may obtain a copy of the License at\n",
              "//\n",
              "//      http://www.apache.org/licenses/LICENSE-2.0\n",
              "//\n",
              "// Unless required by applicable law or agreed to in writing, software\n",
              "// distributed under the License is distributed on an \"AS IS\" BASIS,\n",
              "// WITHOUT WARRANTIES OR CONDITIONS OF ANY KIND, either express or implied.\n",
              "// See the License for the specific language governing permissions and\n",
              "// limitations under the License.\n",
              "\n",
              "/**\n",
              " * @fileoverview Helpers for google.colab Python module.\n",
              " */\n",
              "(function(scope) {\n",
              "function span(text, styleAttributes = {}) {\n",
              "  const element = document.createElement('span');\n",
              "  element.textContent = text;\n",
              "  for (const key of Object.keys(styleAttributes)) {\n",
              "    element.style[key] = styleAttributes[key];\n",
              "  }\n",
              "  return element;\n",
              "}\n",
              "\n",
              "// Max number of bytes which will be uploaded at a time.\n",
              "const MAX_PAYLOAD_SIZE = 100 * 1024;\n",
              "\n",
              "function _uploadFiles(inputId, outputId) {\n",
              "  const steps = uploadFilesStep(inputId, outputId);\n",
              "  const outputElement = document.getElementById(outputId);\n",
              "  // Cache steps on the outputElement to make it available for the next call\n",
              "  // to uploadFilesContinue from Python.\n",
              "  outputElement.steps = steps;\n",
              "\n",
              "  return _uploadFilesContinue(outputId);\n",
              "}\n",
              "\n",
              "// This is roughly an async generator (not supported in the browser yet),\n",
              "// where there are multiple asynchronous steps and the Python side is going\n",
              "// to poll for completion of each step.\n",
              "// This uses a Promise to block the python side on completion of each step,\n",
              "// then passes the result of the previous step as the input to the next step.\n",
              "function _uploadFilesContinue(outputId) {\n",
              "  const outputElement = document.getElementById(outputId);\n",
              "  const steps = outputElement.steps;\n",
              "\n",
              "  const next = steps.next(outputElement.lastPromiseValue);\n",
              "  return Promise.resolve(next.value.promise).then((value) => {\n",
              "    // Cache the last promise value to make it available to the next\n",
              "    // step of the generator.\n",
              "    outputElement.lastPromiseValue = value;\n",
              "    return next.value.response;\n",
              "  });\n",
              "}\n",
              "\n",
              "/**\n",
              " * Generator function which is called between each async step of the upload\n",
              " * process.\n",
              " * @param {string} inputId Element ID of the input file picker element.\n",
              " * @param {string} outputId Element ID of the output display.\n",
              " * @return {!Iterable<!Object>} Iterable of next steps.\n",
              " */\n",
              "function* uploadFilesStep(inputId, outputId) {\n",
              "  const inputElement = document.getElementById(inputId);\n",
              "  inputElement.disabled = false;\n",
              "\n",
              "  const outputElement = document.getElementById(outputId);\n",
              "  outputElement.innerHTML = '';\n",
              "\n",
              "  const pickedPromise = new Promise((resolve) => {\n",
              "    inputElement.addEventListener('change', (e) => {\n",
              "      resolve(e.target.files);\n",
              "    });\n",
              "  });\n",
              "\n",
              "  const cancel = document.createElement('button');\n",
              "  inputElement.parentElement.appendChild(cancel);\n",
              "  cancel.textContent = 'Cancel upload';\n",
              "  const cancelPromise = new Promise((resolve) => {\n",
              "    cancel.onclick = () => {\n",
              "      resolve(null);\n",
              "    };\n",
              "  });\n",
              "\n",
              "  // Wait for the user to pick the files.\n",
              "  const files = yield {\n",
              "    promise: Promise.race([pickedPromise, cancelPromise]),\n",
              "    response: {\n",
              "      action: 'starting',\n",
              "    }\n",
              "  };\n",
              "\n",
              "  cancel.remove();\n",
              "\n",
              "  // Disable the input element since further picks are not allowed.\n",
              "  inputElement.disabled = true;\n",
              "\n",
              "  if (!files) {\n",
              "    return {\n",
              "      response: {\n",
              "        action: 'complete',\n",
              "      }\n",
              "    };\n",
              "  }\n",
              "\n",
              "  for (const file of files) {\n",
              "    const li = document.createElement('li');\n",
              "    li.append(span(file.name, {fontWeight: 'bold'}));\n",
              "    li.append(span(\n",
              "        `(${file.type || 'n/a'}) - ${file.size} bytes, ` +\n",
              "        `last modified: ${\n",
              "            file.lastModifiedDate ? file.lastModifiedDate.toLocaleDateString() :\n",
              "                                    'n/a'} - `));\n",
              "    const percent = span('0% done');\n",
              "    li.appendChild(percent);\n",
              "\n",
              "    outputElement.appendChild(li);\n",
              "\n",
              "    const fileDataPromise = new Promise((resolve) => {\n",
              "      const reader = new FileReader();\n",
              "      reader.onload = (e) => {\n",
              "        resolve(e.target.result);\n",
              "      };\n",
              "      reader.readAsArrayBuffer(file);\n",
              "    });\n",
              "    // Wait for the data to be ready.\n",
              "    let fileData = yield {\n",
              "      promise: fileDataPromise,\n",
              "      response: {\n",
              "        action: 'continue',\n",
              "      }\n",
              "    };\n",
              "\n",
              "    // Use a chunked sending to avoid message size limits. See b/62115660.\n",
              "    let position = 0;\n",
              "    do {\n",
              "      const length = Math.min(fileData.byteLength - position, MAX_PAYLOAD_SIZE);\n",
              "      const chunk = new Uint8Array(fileData, position, length);\n",
              "      position += length;\n",
              "\n",
              "      const base64 = btoa(String.fromCharCode.apply(null, chunk));\n",
              "      yield {\n",
              "        response: {\n",
              "          action: 'append',\n",
              "          file: file.name,\n",
              "          data: base64,\n",
              "        },\n",
              "      };\n",
              "\n",
              "      let percentDone = fileData.byteLength === 0 ?\n",
              "          100 :\n",
              "          Math.round((position / fileData.byteLength) * 100);\n",
              "      percent.textContent = `${percentDone}% done`;\n",
              "\n",
              "    } while (position < fileData.byteLength);\n",
              "  }\n",
              "\n",
              "  // All done.\n",
              "  yield {\n",
              "    response: {\n",
              "      action: 'complete',\n",
              "    }\n",
              "  };\n",
              "}\n",
              "\n",
              "scope.google = scope.google || {};\n",
              "scope.google.colab = scope.google.colab || {};\n",
              "scope.google.colab._files = {\n",
              "  _uploadFiles,\n",
              "  _uploadFilesContinue,\n",
              "};\n",
              "})(self);\n",
              "</script> "
            ]
          },
          "metadata": {}
        },
        {
          "output_type": "stream",
          "name": "stdout",
          "text": [
            "Saving Form 1.pdf to Form 1 (3).pdf\n",
            "Saved: page_1.jpg\n",
            "Saved: page_2.jpg\n",
            "Saved: page_3.jpg\n"
          ]
        }
      ]
    },
    {
      "cell_type": "markdown",
      "source": [
        "## **Apply OCR to Extract Text**"
      ],
      "metadata": {
        "id": "Dx64JaZgnW-7"
      }
    },
    {
      "cell_type": "code",
      "source": [
        "import pytesseract\n",
        "from PIL import Image\n",
        "\n",
        "pytesseract.pytesseract.tesseract_cmd = r'/usr/bin/tesseract'  # Default path for Colab\n"
      ],
      "metadata": {
        "id": "yegfvhLvnaT0"
      },
      "execution_count": 32,
      "outputs": []
    },
    {
      "cell_type": "code",
      "source": [
        "extracted_text = \"\"\n",
        "for i in range(len(pages)):\n",
        "    img = Image.open(f'page_{i + 1}.jpg')\n",
        "    text = pytesseract.image_to_string(img)\n",
        "    extracted_text += text + \"\\n\"\n",
        "print(extracted_text)\n"
      ],
      "metadata": {
        "colab": {
          "base_uri": "https://localhost:8080/"
        },
        "id": "_pL2GGYMnhH6",
        "outputId": "ac018a2b-cac4-4436-8161-8083f3353828"
      },
      "execution_count": 33,
      "outputs": [
        {
          "output_type": "stream",
          "name": "stdout",
          "text": [
            "© >) Enzigma\n",
            "\n",
            "We start where others quit\n",
            "\n",
            "Affix Your Photograph Here\n",
            "CANDIDATE INFORMATION FORM\n",
            "\n",
            "1. Name (Block Letters- As specified on Passport or Pan Card):\n",
            "Dr. Girish Anil Amrutkar\n",
            "\n",
            " \n",
            "\n",
            "(First Name) (Middle Name) (Last Name)\n",
            "2. Permanent Address:\n",
            "\n",
            "3.1 Street Address: Ganesh Colony.\n",
            "3.2 City: Jalgaon 3.3 State: Maharashtra\n",
            "\n",
            "3.4 Zip Code: 425401 3.5 Country: India\n",
            "\n",
            "3. Current Address:\n",
            "\n",
            "3.1 Street Address: Dehu Alandi Road\n",
            "\n",
            " \n",
            "\n",
            "3.2 City: Pune 3.3 State: Maharashtra\n",
            "\n",
            "3.4 Zip Code: 412105 3.5 Country: India\n",
            "\n",
            "4. Date of Birth: 05 /10 /2003\n",
            "\n",
            "5. Age: 21 6. Gender: Male\n",
            "\n",
            "7. Passport: No 8. Mobile: 7785652378\n",
            "\n",
            "9. PAN No.: D45P189976\n",
            "\n",
            "10. Visa: No 11. Email ID: girish.amrutkar@mitaoe.ac.in\n",
            "\n",
            "12. Name of Emergency Contact: Anil Amrutkar\n",
            "\n",
            "13. Emergency Contact's Number: 9860870788 14. Available for Relocation:\n",
            "\n",
            "15. EDUCATIONAL QUALIFICATION: (Starting from recent)\n",
            "\n",
            " \n",
            "\n",
            " \n",
            "\n",
            " \n",
            "\n",
            " \n",
            "\n",
            "Sr No. Name of the School/ University Qualification % or Pass out\n",
            "CGPA Year\n",
            "1. | MIT Academy Of Engineering BTech 8.16 2025\n",
            "2. NMU 12th 92 2021\n",
            "3. RRR 10th 93 2019\n",
            "\n",
            " \n",
            "\n",
            " \n",
            "\n",
            " \n",
            "\n",
            " \n",
            "\n",
            " \n",
            "\n",
            " \n",
            "\n",
            " \n",
            "\n",
            " \n",
            "\n",
            "Enzigma Solutions LLP Page 1\n",
            "\f\n",
            "15. Details of any important training undergone:\n",
            "\n",
            " \n",
            "\n",
            "Program Contents Organized By Duration\n",
            "\n",
            " \n",
            "\n",
            "Supervised Algorithm MIT AOE 1.5 Years\n",
            "Machine Learning\n",
            "\n",
            " \n",
            "\n",
            "AWS Services MIT AOE 6 Months\n",
            "AWS\n",
            "\n",
            " \n",
            "\n",
            " \n",
            "\n",
            " \n",
            "\n",
            " \n",
            "\n",
            " \n",
            "\n",
            " \n",
            "\n",
            " \n",
            "\n",
            "16. Please list the technical or professional certification you completed\n",
            "\n",
            " \n",
            "\n",
            " \n",
            "\n",
            " \n",
            "\n",
            "Sr. NO Certification Duration\n",
            "1. AWS Academy -ML 5 Months\n",
            "Dee Intro To Web Development 6 Months\n",
            "\n",
            " \n",
            "\n",
            " \n",
            "\n",
            " \n",
            "\n",
            " \n",
            "\n",
            " \n",
            "\n",
            " \n",
            "\n",
            "17. Details of Family Members:\n",
            "\n",
            " \n",
            "\n",
            " \n",
            "\n",
            " \n",
            "\n",
            " \n",
            "\n",
            "[Relation =| + ~—‘Occupation/Profession [| ~~ +~ResidentLocation _i\n",
            "Father/ Mother Bussinessman Jalgaon\n",
            "Brothers IAS Mussoorie\n",
            "(«Sisters =—s—‘ézrr Mirnster=——(“<‘é;!O!O!€©™©)©W. LMumbaivmcrmlmlmlmlmlm™COOOOO!!~—CSY\n",
            "Spouse Doctor Pune\n",
            "Children Athlete New Delhi\n",
            "\n",
            " \n",
            "\n",
            " \n",
            "\n",
            " \n",
            "\n",
            " \n",
            "\n",
            " \n",
            "\n",
            "18. References: (Min 2)\n",
            "Note: Write References in case of:\n",
            "1. Student: Faculty\n",
            "2. Employment: Immediate reporting Authority, Managers, Team Leads etc.\n",
            "3. Institute, SEED, CDAC: Faculty\n",
            "\n",
            " \n",
            "\n",
            " \n",
            "\n",
            " \n",
            "\n",
            " \n",
            "\n",
            "Name Designation Contact No\n",
            "Dr . Mahesh Goudar Director , MIT AOE 9563247896\n",
            "Narendra Modi Prime Minister , India 1234567890\n",
            "Devendra Fadnavis Chief Minister , Maharashtra . 7792412386\n",
            "\n",
            " \n",
            "\n",
            " \n",
            "\n",
            " \n",
            "\n",
            " \n",
            "\n",
            " \n",
            "\n",
            "Dr.Girish Amrutkar\n",
            "\n",
            " \n",
            "\n",
            "Enzigma Software Pvt.Ltd.\n",
            "\f\n",
            "© >) Enzigma\n",
            "\n",
            "We start where others quit\n",
            "\n",
            "Signature\n",
            "\n",
            "Enzigma Solutions LLP Page 3\n",
            "\f\n",
            "\n"
          ]
        }
      ]
    },
    {
      "source": [
        "import re\n",
        "import json\n",
        "\n",
        "def extract_form_data(text):\n",
        "    \"\"\"Extracts data from the given text using regular expressions.\"\"\"\n",
        "\n",
        "    name_pattern = r\"Name.*?:\\s*(.*)\"\n",
        "    email_pattern = r\"Email ID.*?:\\s*([\\w\\.-]+@[\\w\\.-]+)\"\n",
        "    mobile_pattern = r\"Mobile.*?:\\s*(\\d{10})\"\n",
        "    dob_pattern = r\"Date of Birth.*?:\\s*(\\d{2}\\s*/\\s*\\d{2}\\s*/\\s*\\d{4})\"\n",
        "\n",
        "\n",
        "    name = re.search(name_pattern, text)\n",
        "    email = re.search(email_pattern, text)\n",
        "    mobile = re.search(mobile_pattern, text)\n",
        "    dob = re.search(dob_pattern, text)\n",
        "    # ... (add other extraction logic as needed)\n",
        "\n",
        "    data = {\n",
        "        \"Name\": name.group(1) if name else \"Not Found\",\n",
        "        \"Email\": email.group(1) if email else \"Not Found\",\n",
        "        \"Mobile\": mobile.group(1) if mobile else \"Not Found\",\n",
        "        \"Date of Birth\": dob.group(1) if dob else \"Not Found\",\n",
        "        # ... (add other fields as needed)\n",
        "    }\n",
        "\n",
        "    return data\n",
        "\n",
        "# Assuming you have the extracted text in a variable called 'extracted_text'\n",
        "extracted_data = extract_form_data(extracted_text)\n",
        "\n",
        "# Convert the extracted data to JSON format\n",
        "json_data = json.dumps(extracted_data, indent=4)  # indent for better readability\n",
        "\n",
        "# Print the JSON data or save it to a file\n",
        "print(json_data)\n",
        "# or\n",
        "# with open('extracted_data.json', 'w') as f:\n",
        "#     f.write(json_data)"
      ],
      "cell_type": "code",
      "metadata": {
        "colab": {
          "base_uri": "https://localhost:8080/"
        },
        "id": "BIcRaGZHD8fX",
        "outputId": "d6c96352-b40b-4d8b-cc2a-f4052fa3710d"
      },
      "execution_count": 34,
      "outputs": [
        {
          "output_type": "stream",
          "name": "stdout",
          "text": [
            "{\n",
            "    \"Name\": \"Dr. Girish Anil Amrutkar\",\n",
            "    \"Email\": \"girish.amrutkar@mitaoe.ac.in\",\n",
            "    \"Mobile\": \"7785652378\",\n",
            "    \"Date of Birth\": \"05 /10 /2003\"\n",
            "}\n"
          ]
        }
      ]
    },
    {
      "cell_type": "markdown",
      "source": [
        "### **Parse Extracted Text for Relevant Fields**"
      ],
      "metadata": {
        "id": "NN_pm4hmOJOf"
      }
    },
    {
      "cell_type": "code",
      "source": [
        "import re\n",
        "\n",
        "name_pattern = r\"Name.*?:\\s*(.*)\"\n",
        "email_pattern = r\"Email ID.*?:\\s*([\\w\\.-]+@[\\w\\.-]+)\"\n",
        "mobile_pattern = r\"Mobile.*?:\\s*(\\d+)\"\n",
        "dob_pattern = r\"Date of Birth.*?:\\s*(\\d{2}\\s*/\\s*\\d{2}\\s*/\\s*\\d{4})\"\n",
        "age_pattern = r\"Age:\\s*(\\d+)\"\n",
        "gender_pattern = r\"Gender:\\s*(\\w+)\"\n",
        "emergency_contact_name_pattern = r\"Name of Emergency Contact.*?:\\s*(.*)\"\n",
        "emergency_contact_number_pattern = r\"Emergency Contact's Number.*?:\\s*(\\d+)\"\n",
        "\n",
        "# Extract details\n",
        "name = re.search(name_pattern, extracted_text)\n",
        "email = re.search(email_pattern, extracted_text)\n",
        "mobile = re.search(mobile_pattern, extracted_text)\n",
        "dob = re.search(dob_pattern, extracted_text)\n",
        "age = re.search(age_pattern, extracted_text)\n",
        "gender = re.search(gender_pattern, extracted_text)\n",
        "emergency_contact_name = re.search(emergency_contact_name_pattern, extracted_text)\n",
        "emergency_contact_number = re.search(emergency_contact_number_pattern, extracted_text)\n",
        "\n",
        "print(\"Name:\", name.group(1).strip() if name else \"Not Found\")\n",
        "print(\"Email:\", email.group(1).strip() if email else \"Not Found\")\n",
        "print(\"Mobile:\", mobile.group(1).strip() if mobile else \"Not Found\")\n",
        "print(\"Date of Birth:\", dob.group(1).strip() if dob else \"Not Found\")\n",
        "print(\"Age:\", age.group(1).strip() if age else \"Not Found\")\n",
        "print(\"Gender:\", gender.group(1).strip() if gender else \"Not Found\")\n",
        "print(\"Emergency Contact Name:\", emergency_contact_name.group(1).strip() if emergency_contact_name else \"Not Found\")\n",
        "print(\"Emergency Contact Number:\", emergency_contact_number.group(1).strip() if emergency_contact_number else \"Not Found\")"
      ],
      "metadata": {
        "colab": {
          "base_uri": "https://localhost:8080/"
        },
        "id": "RbwhjoPrOORg",
        "outputId": "51ed39ab-9951-4a1e-80ad-89f78a408056"
      },
      "execution_count": 35,
      "outputs": [
        {
          "output_type": "stream",
          "name": "stdout",
          "text": [
            "Name: Dr. Girish Anil Amrutkar\n",
            "Email: girish.amrutkar@mitaoe.ac.in\n",
            "Mobile: 7785652378\n",
            "Date of Birth: 05 /10 /2003\n",
            "Age: 21\n",
            "Gender: Male\n",
            "Emergency Contact Name: Anil Amrutkar\n",
            "Emergency Contact Number: 9860870788\n"
          ]
        }
      ]
    },
    {
      "cell_type": "markdown",
      "source": [
        "Print the Extracted Data"
      ],
      "metadata": {
        "id": "UEEaR9UY6uYu"
      }
    },
    {
      "cell_type": "code",
      "source": [
        "# Create a dictionary to store extracted data\n",
        "data = {\n",
        "    \"Name\": name.group(1).strip() if name else \"Not Found\",\n",
        "    \"Email\": email.group(1).strip() if email else \"Not Found\",\n",
        "    \"Mobile\": mobile.group(1).strip() if mobile else \"Not Found\",\n",
        "    \"Date of Birth\": dob.group(1).strip() if dob else \"Not Found\",\n",
        "    \"Age\": age.group(1).strip() if age else \"Not Found\",\n",
        "    \"Gender\": gender.group(1).strip() if gender else \"Not Found\",\n",
        "    \"Emergency Contact Name\": emergency_contact_name.group(1).strip() if emergency_contact_name else \"Not Found\",\n",
        "    \"Emergency Contact Number\": emergency_contact_number.group(1).strip() if emergency_contact_number else \"Not Found\"\n",
        "}\n",
        "\n",
        "# Print the extracted data in a structured format\n",
        "print(\"Extracted Data:\", data)\n"
      ],
      "metadata": {
        "colab": {
          "base_uri": "https://localhost:8080/"
        },
        "id": "0NYt48N_6w_B",
        "outputId": "2496ed6a-aec3-4b3e-81f4-7fa9af8f1b72"
      },
      "execution_count": 36,
      "outputs": [
        {
          "output_type": "stream",
          "name": "stdout",
          "text": [
            "Extracted Data: {'Name': 'Dr. Girish Anil Amrutkar', 'Email': 'girish.amrutkar@mitaoe.ac.in', 'Mobile': '7785652378', 'Date of Birth': '05 /10 /2003', 'Age': '21', 'Gender': 'Male', 'Emergency Contact Name': 'Anil Amrutkar', 'Emergency Contact Number': '9860870788'}\n"
          ]
        }
      ]
    },
    {
      "cell_type": "markdown",
      "source": [
        "Save The Extracted Data"
      ],
      "metadata": {
        "id": "ScD1zr7L7MUl"
      }
    },
    {
      "cell_type": "code",
      "source": [
        "import json\n",
        "\n",
        "# Save as JSON\n",
        "with open('extracted_data.json', 'w') as f:\n",
        "    json.dump(data, f)\n",
        "\n",
        "print(\"Data saved to extracted_data.json\")\n"
      ],
      "metadata": {
        "colab": {
          "base_uri": "https://localhost:8080/"
        },
        "id": "Fn8It2Av7PFC",
        "outputId": "aeb6e8f0-92e9-4c69-c674-64333b0f415d"
      },
      "execution_count": 37,
      "outputs": [
        {
          "output_type": "stream",
          "name": "stdout",
          "text": [
            "Data saved to extracted_data.json\n"
          ]
        }
      ]
    }
  ]
}